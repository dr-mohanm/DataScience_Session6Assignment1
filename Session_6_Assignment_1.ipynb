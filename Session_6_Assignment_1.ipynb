{
 "cells": [
  {
   "cell_type": "code",
   "execution_count": 5,
   "metadata": {},
   "outputs": [],
   "source": [
    "# Write a function so that the columns of the output matrix are powers of the input vector.  \n",
    "# The order of the powers is determined by the increasing boolean argument. Specifically, when increasing is False, \n",
    "# the i-th output column is the input vector raised element-wise to the power of N - i - 1.  \n",
    "# HINT: Such a matrix with a geometric progression in each row is named for Alexandre Theophile Vandermonde.\n",
    "\n",
    "# This prablem statement has been done using using Vander function and also my own function."
   ]
  },
  {
   "cell_type": "code",
   "execution_count": 6,
   "metadata": {},
   "outputs": [
    {
     "data": {
      "text/plain": [
       "array([[  1,   1,   1,   1,   1],\n",
       "       [ 16,   8,   4,   2,   1],\n",
       "       [ 81,  27,   9,   3,   1],\n",
       "       [256,  64,  16,   4,   1],\n",
       "       [625, 125,  25,   5,   1]])"
      ]
     },
     "execution_count": 6,
     "metadata": {},
     "output_type": "execute_result"
    }
   ],
   "source": [
    "# NP Vander with Array\n",
    "import numpy as np\n",
    "x = np.array([1, 2, 3, 4, 5])\n",
    "N = 5\n",
    "np.vander(x, N)"
   ]
  },
  {
   "cell_type": "code",
   "execution_count": 7,
   "metadata": {},
   "outputs": [
    {
     "data": {
      "text/plain": [
       "array([[  1,   1,   1,   1,   1],\n",
       "       [ 16,   8,   4,   2,   1],\n",
       "       [ 81,  27,   9,   3,   1],\n",
       "       [256,  64,  16,   4,   1],\n",
       "       [625, 125,  25,   5,   1]], dtype=int32)"
      ]
     },
     "execution_count": 7,
     "metadata": {},
     "output_type": "execute_result"
    }
   ],
   "source": [
    "# NP Vander with Power (N-1-i)\n",
    "np.column_stack([x**(N-1-i) for i in range(N)])"
   ]
  },
  {
   "cell_type": "code",
   "execution_count": 8,
   "metadata": {},
   "outputs": [
    {
     "data": {
      "text/plain": [
       "array([[  1,   1,   1,   1,   1],\n",
       "       [ 16,   8,   4,   2,   1],\n",
       "       [ 81,  27,   9,   3,   1],\n",
       "       [256,  64,  16,   4,   1],\n",
       "       [625, 125,  25,   5,   1]])"
      ]
     },
     "execution_count": 8,
     "metadata": {},
     "output_type": "execute_result"
    }
   ],
   "source": [
    "# NP Vander with Increasing False\n",
    "x = np.array([1, 2, 3, 4, 5])\n",
    "np.vander(x, increasing=False)"
   ]
  },
  {
   "cell_type": "code",
   "execution_count": 9,
   "metadata": {},
   "outputs": [
    {
     "data": {
      "text/plain": [
       "array([[  1,   1,   1,   1,   1],\n",
       "       [  1,   2,   4,   8,  16],\n",
       "       [  1,   3,   9,  27,  81],\n",
       "       [  1,   4,  16,  64, 256],\n",
       "       [  1,   5,  25, 125, 625]])"
      ]
     },
     "execution_count": 9,
     "metadata": {},
     "output_type": "execute_result"
    }
   ],
   "source": [
    "# NP Vander with Increasing True\n",
    "np.vander(x, increasing=True)"
   ]
  },
  {
   "cell_type": "code",
   "execution_count": 10,
   "metadata": {},
   "outputs": [
    {
     "data": {
      "text/plain": [
       "array([[  1,   1,   1,   1,   1],\n",
       "       [  1,   2,   4,   8,  16],\n",
       "       [  1,   3,   9,  27,  81],\n",
       "       [  1,   4,  16,  64, 256],\n",
       "       [  1,   5,  25, 125, 625]])"
      ]
     },
     "execution_count": 10,
     "metadata": {},
     "output_type": "execute_result"
    }
   ],
   "source": [
    "# Function similar to Increasing is True\n",
    "import numpy as np\n",
    "\n",
    "def vander_mat(v):\n",
    "    z = []\n",
    "    x=0\n",
    "    for i in range(v):\n",
    "        x=x+1\n",
    "        for j in range(v):\n",
    "            a=z.append(x**j)\n",
    "            k=np.array(z)\n",
    "    return k.reshape(v,v)\n",
    "vander_mat(5)"
   ]
  },
  {
   "cell_type": "code",
   "execution_count": 11,
   "metadata": {},
   "outputs": [
    {
     "data": {
      "text/plain": [
       "array([[  1,   1,   1,   1,   1],\n",
       "       [ 16,   8,   4,   2,   1],\n",
       "       [ 81,  27,   9,   3,   1],\n",
       "       [256,  64,  16,   4,   1],\n",
       "       [625, 125,  25,   5,   1]])"
      ]
     },
     "execution_count": 11,
     "metadata": {},
     "output_type": "execute_result"
    }
   ],
   "source": [
    "# Function similar to Increasing is False\n",
    "def vander_mat(v):\n",
    "    z = []\n",
    "    x=0\n",
    "    for i in range(v):\n",
    "        x=x+1\n",
    "        for j in range(v):\n",
    "            a=z.append(x**j)\n",
    "            k=np.array(z)\n",
    "    h = k.reshape(v,v)\n",
    "    return np.fliplr(h)\n",
    "vander_mat(5)"
   ]
  },
  {
   "cell_type": "code",
   "execution_count": null,
   "metadata": {},
   "outputs": [],
   "source": []
  }
 ],
 "metadata": {
  "kernelspec": {
   "display_name": "Python 3",
   "language": "python",
   "name": "python3"
  },
  "language_info": {
   "codemirror_mode": {
    "name": "ipython",
    "version": 3
   },
   "file_extension": ".py",
   "mimetype": "text/x-python",
   "name": "python",
   "nbconvert_exporter": "python",
   "pygments_lexer": "ipython3",
   "version": "3.6.5"
  }
 },
 "nbformat": 4,
 "nbformat_minor": 2
}
